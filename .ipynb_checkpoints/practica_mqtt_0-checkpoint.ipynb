{
 "cells": [
  {
   "cell_type": "markdown",
   "id": "9d72e293-6670-4c62-8889-de58c0d5a16f",
   "metadata": {},
   "source": [
    "# Breve Referencia de Paho y Widgets"
   ]
  },
  {
   "cell_type": "markdown",
   "id": "79cb4c19-a067-4807-b73b-f4b488067ee3",
   "metadata": {
    "tags": []
   },
   "source": [
    "## Instalación de librerias necesarias"
   ]
  },
  {
   "cell_type": "code",
   "execution_count": null,
   "id": "aac56185-1daa-428c-a86a-17e8cb32332b",
   "metadata": {},
   "outputs": [],
   "source": [
    "!pip install paho\n",
    "!pip install matplotlib\n",
    "!pip install import_ipynb # librería que nos permite importar libretas Jupyter"
   ]
  },
  {
   "cell_type": "markdown",
   "id": "36dd76fe-161e-4daf-87e0-5fc9ea9a5bf2",
   "metadata": {
    "tags": []
   },
   "source": [
    "## Ejemplo de conexión básica"
   ]
  },
  {
   "cell_type": "code",
   "execution_count": null,
   "id": "0c050ebe-af10-4aac-b567-94e478da68c6",
   "metadata": {},
   "outputs": [],
   "source": [
    "import paho.mqtt.client as mqtt #import the client paho\n",
    "broker_address=\"test.mosquitto.org\" #use external broker\n",
    "client = mqtt.Client(\"P1\") #create new client instance wih a username\n",
    "client.connect(broker_address) #connect to broker\n",
    "client.publish(\"house/main-light\",\"OFF\")#publish"
   ]
  },
  {
   "cell_type": "markdown",
   "id": "9a9c4e7d-088f-4edd-96d0-d4c0f9305216",
   "metadata": {},
   "source": [
    "En caso de necesitar password:"
   ]
  },
  {
   "cell_type": "code",
   "execution_count": null,
   "id": "1f2afc87-9e7d-4145-a331-12c3dedfd94c",
   "metadata": {},
   "outputs": [],
   "source": [
    "client.username_pw_set(username=\"P1\", password=\"\")"
   ]
  },
  {
   "cell_type": "markdown",
   "id": "0b319bba-7a1a-424d-aedb-c6dffee25f4c",
   "metadata": {},
   "source": [
    "## Publicar con widget"
   ]
  },
  {
   "cell_type": "code",
   "execution_count": 6,
   "id": "d5f81410-4431-4b0e-ac55-19580f00164a",
   "metadata": {},
   "outputs": [
    {
     "data": {
      "application/vnd.jupyter.widget-view+json": {
       "model_id": "1d56dd6af93b4739b88f8faf8ec9532a",
       "version_major": 2,
       "version_minor": 0
      },
      "text/plain": [
       "HBox(children=(IntSlider(value=1, description='temperatura', min=1), Text(value='', description='mensaje')))"
      ]
     },
     "metadata": {},
     "output_type": "display_data"
    },
    {
     "data": {
      "application/vnd.jupyter.widget-view+json": {
       "model_id": "71a99a9f561d41ca913b7933ef92517f",
       "version_major": 2,
       "version_minor": 0
      },
      "text/plain": [
       "Button(description='publicar temperatura!', style=ButtonStyle())"
      ]
     },
     "metadata": {},
     "output_type": "display_data"
    }
   ],
   "source": [
    "import ipywidgets as widgets\n",
    "\n",
    "# temperatura a seleccionar con el slider\n",
    "temp=0\n",
    "\n",
    "# setea la temperatura desde el slider\n",
    "def setTemp(change):\n",
    "    global temp\n",
    "    temp=change['new']\n",
    "\n",
    "def publish(*args):\n",
    "    global temp\n",
    "    message = f'{{\"temp\":{temp}}}'\n",
    "    print(f'publishing: {message}')\n",
    "    # necesitamos el cliente de paho\n",
    "    client.publish(\"topico/prueba\",message)\n",
    "    \n",
    "def show(*args):\n",
    "    print('hello')\n",
    "    \n",
    "\n",
    "button = widgets.Button(description='publicar temperatura!')\n",
    "slide = widgets.IntSlider(min=1, max=100, step=1, description='temperatura')\n",
    "text_box = widgets.Text(description='mensaje')\n",
    "ui = widgets.HBox([slide, text_box])\n",
    "\n",
    "slide.observe(setTemp, names='value')\n",
    "\n",
    "#out = widgets.interactive_output(setTemp , {'x': slide})\n",
    "\n",
    "display(ui)\n",
    "display(button)\n",
    "button.on_click(show)"
   ]
  }
 ],
 "metadata": {
  "kernelspec": {
   "display_name": "Python 3 (ipykernel)",
   "language": "python",
   "name": "python3"
  },
  "language_info": {
   "codemirror_mode": {
    "name": "ipython",
    "version": 3
   },
   "file_extension": ".py",
   "mimetype": "text/x-python",
   "name": "python",
   "nbconvert_exporter": "python",
   "pygments_lexer": "ipython3",
   "version": "3.9.2"
  }
 },
 "nbformat": 4,
 "nbformat_minor": 5
}
