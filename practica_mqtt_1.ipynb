{
 "cells": [
  {
   "cell_type": "markdown",
   "id": "49f2e3db-c06f-4405-b446-f2d37ac44154",
   "metadata": {},
   "source": [
    "# Conexión a AWS IoT Usando Paho sobre Jupyter"
   ]
  },
  {
   "cell_type": "markdown",
   "id": "245b0395-29b6-4c48-8079-2779fcc1ed76",
   "metadata": {
    "tags": []
   },
   "source": [
    "## Instalación de librerias necesarias"
   ]
  },
  {
   "cell_type": "markdown",
   "id": "3349f3c5-e889-405f-88fd-d3102dcdc8d8",
   "metadata": {},
   "source": [
    "En caso de no haberlo hecho antes, instale las librerías de Python necserias para este práctica"
   ]
  },
  {
   "cell_type": "code",
   "execution_count": null,
   "id": "db22c0bd-5f21-49ab-bf82-90928d35d34c",
   "metadata": {},
   "outputs": [],
   "source": [
    "!pip install paho\n",
    "!pip install matplotlib\n",
    "!pip install import_ipynb # librería que nos permite importar libretas Jupyter"
   ]
  },
  {
   "cell_type": "markdown",
   "id": "4bce38cb-250b-465b-a436-d71a0e9fd719",
   "metadata": {},
   "source": [
    "## Credenciales para AWS"
   ]
  },
  {
   "cell_type": "markdown",
   "id": "2e2fabec-6b29-4412-8a91-291bea0796a2",
   "metadata": {},
   "source": [
    "AWS IoT requiere la presentación de las correctas credenciales para poder conectarnos via MQTT. Para que las funciones a usar en esta práctica funcionen correctamente, coloque las siguientes credenciales dentro de la carpeta `credenciales`, que está junto al archivo de esta libreta.\n",
    "\n",
    "Renombre los archivos como se especifica acontinuación:\n",
    "\n",
    "- llave privada => \"llave-privada.pem.key\"\n",
    "- certificado del CA => \"certificado-ca.pem\"\n",
    "- certificado del dispositivo => \"certificado.pem.crt\""
   ]
  },
  {
   "cell_type": "markdown",
   "id": "a373baa5-d129-4f1e-adb3-11db1e5cbb5f",
   "metadata": {
    "tags": []
   },
   "source": [
    "## Inicialización"
   ]
  },
  {
   "cell_type": "markdown",
   "id": "85e40ea3-113f-4ac2-95e4-008c302812bf",
   "metadata": {},
   "source": [
    "El archivo `mqtt_aws` junto a esta libreta es otra libreta Jupyter que contiene el código necesario para la conexión con AWS IoT entre otras funciones. Al importarlo, tendremos acceso a las funciones que nos ofrece en la presente libreta Jupyter."
   ]
  },
  {
   "cell_type": "code",
   "execution_count": 1,
   "id": "93e9bc8a-447e-4f45-99fb-ba8f8b19e701",
   "metadata": {},
   "outputs": [
    {
     "name": "stdout",
     "output_type": "stream",
     "text": [
      "importing Jupyter notebook from mqtt_aws.ipynb\n"
     ]
    }
   ],
   "source": [
    "import import_ipynb # librería que nos permite importar libretas Jupyter\n",
    "import mqtt_aws as mqtt # le damos el alias de 'mqtt' al componente"
   ]
  },
  {
   "cell_type": "markdown",
   "id": "9efef93d-2a5f-4301-b0db-15894857d173",
   "metadata": {},
   "source": [
    "La función `crear_cliente` nos permitirá crear un cliente MQTT. Esta función también retornará el cliente y lo podremos almacenar en cualquier variable deseada para su posterior uso. La función también se encargará de conectar el cliente automáticamente al servidor MQTT.\n",
    "\n",
    "Debido a que estas funciones pertenecen a la libreta `mqtt_aws` (nombrada `mqtt` al importarla), debemos llamar a la función como `mqtt.crear_cliente` en lugar de solo `crear_cliente`."
   ]
  },
  {
   "cell_type": "code",
   "execution_count": 2,
   "id": "96a86c3e-b98b-41f8-ba06-a24ce6ecece1",
   "metadata": {},
   "outputs": [
    {
     "name": "stdout",
     "output_type": "stream",
     "text": [
      "cliente connectado b'ray'\n"
     ]
    }
   ],
   "source": [
    "# guardamos la dirección del servidor MQTT en una variable para su facil uso\n",
    "direccion_servidor = 'a1fuz731sf8v8p-ats.iot.us-east-1.amazonaws.com'\n",
    "\n",
    "# almancenamos el cliente an la variable `ray`\n",
    "ray = mqtt.crear_cliente('ray', direccion_servidor)"
   ]
  },
  {
   "cell_type": "markdown",
   "id": "b4aa339a-5b15-4b8d-9710-014ab0aa9fb4",
   "metadata": {},
   "source": [
    "`mqtt_aws` lleva cuenta de los clientes conectados al servidor MQTT. Para listarlos llamamos a la siguient función:"
   ]
  },
  {
   "cell_type": "code",
   "execution_count": 3,
   "id": "0dcfd5e4-7381-40db-b0f0-fcf1df4075fe",
   "metadata": {},
   "outputs": [
    {
     "data": {
      "text/plain": [
       "['ray']"
      ]
     },
     "execution_count": 3,
     "metadata": {},
     "output_type": "execute_result"
    }
   ],
   "source": [
    "mqtt.listar_clientes()"
   ]
  },
  {
   "cell_type": "markdown",
   "id": "52d9dc31-6a7e-48e0-847d-deb136c13cbb",
   "metadata": {},
   "source": [
    "Si probamos a crear otro cliente, lo podremos ver tambien en la lista de clientes"
   ]
  },
  {
   "cell_type": "code",
   "execution_count": 4,
   "id": "3907dfc0-ddf9-4ea6-93ed-e8828527a19f",
   "metadata": {},
   "outputs": [
    {
     "data": {
      "text/plain": [
       "['ray']"
      ]
     },
     "execution_count": 4,
     "metadata": {},
     "output_type": "execute_result"
    },
    {
     "name": "stdout",
     "output_type": "stream",
     "text": [
      "cliente connectado b'charles'\n"
     ]
    }
   ],
   "source": [
    "charles = mqtt.crear_cliente('charles', direccion_servidor)"
   ]
  },
  {
   "cell_type": "code",
   "execution_count": 10,
   "id": "7ba2ced6-d71e-49bb-9f8d-ec8b7f527538",
   "metadata": {},
   "outputs": [
    {
     "data": {
      "text/plain": [
       "['ray', 'charles']"
      ]
     },
     "execution_count": 10,
     "metadata": {},
     "output_type": "execute_result"
    }
   ],
   "source": [
    "# listamos de nuevo y observamos el nuevo usuario\n",
    "mqtt.listar_clientes()"
   ]
  },
  {
   "cell_type": "markdown",
   "id": "aed17929-8471-4b95-b14c-bd5ab53dfaf6",
   "metadata": {},
   "source": [
    "## Subscripción y publicación"
   ]
  },
  {
   "cell_type": "markdown",
   "id": "ffdec781-206d-4d9a-a922-a0d5fecd2b83",
   "metadata": {},
   "source": [
    "Una vez creado el cliente MQTT podemos susbscribirnos o publicar a cualquier tópico de nuestra elección.\n",
    "\n",
    "Publiquemos un mensaje MQTT:"
   ]
  },
  {
   "cell_type": "code",
   "execution_count": 7,
   "id": "da0b0590-b262-423e-a433-2e4a12c7e044",
   "metadata": {},
   "outputs": [
    {
     "name": "stdout",
     "output_type": "stream",
     "text": [
      "mensaje recibido: esto es un mensaje de prueba :)\n"
     ]
    }
   ],
   "source": [
    "# publicando un mensaje al tópico \"topico/prueba\" desde el cliente \"ray\"\n",
    "\n",
    "mqtt.publicar(ray, 'topico/prueba', 'esto es un mensaje de prueba :)')"
   ]
  },
  {
   "cell_type": "markdown",
   "id": "84ff65f5-c567-49bd-a151-ed232ad20e96",
   "metadata": {},
   "source": [
    "El problema es que aunque el mensaje haya sido correctamente publicado, no tenemos manera de confirmarlo. Así que a continuación nos suscribiremos al mismo tópico al que estamos publicando para que nos lleguen los mensajes publicados."
   ]
  },
  {
   "cell_type": "code",
   "execution_count": 9,
   "id": "36341138-3955-4120-b675-ba1027c1a3a5",
   "metadata": {},
   "outputs": [
    {
     "name": "stdout",
     "output_type": "stream",
     "text": [
      "mensaje recibido: {\n",
      "  \"message\": \"Hello from AWS IoT console\"\n",
      "}\n",
      "cliente connectado b'ray'\n",
      "cliente connectado b'ray'\n",
      "cliente connectado b'ray'\n",
      "cliente connectado b'ray'\n"
     ]
    }
   ],
   "source": [
    "# suscribiendonos al tópico \"prueba\" desde el cliente \"ray\"\n",
    "mqtt.subscribir_cliente(ray, 'topico/prueba') "
   ]
  },
  {
   "cell_type": "markdown",
   "id": "f89dfae7-d02f-450d-b3a2-fe6c9bd980c0",
   "metadata": {},
   "source": [
    "Ahora, re-ejecutemos el codigo para publicar, ubicado más arriba. Cambie el mensaje y pruebe publicando más de una vez."
   ]
  },
  {
   "cell_type": "markdown",
   "id": "d789f032-d745-4a9d-814b-269c60747ec9",
   "metadata": {},
   "source": [
    "# Libreta paralela"
   ]
  },
  {
   "cell_type": "markdown",
   "id": "d87e5f3e-5a9f-45c9-bc61-1f1868470b66",
   "metadata": {},
   "source": [
    "Para mayor comodidad visualizando los mensajes MQTT recibidos, cree una nueva libreta temporal y colóquela paralela a la que se encuentra ahora, como lo ilustra la siguiente imagen imagen de referencia:\n",
    "\n",
    "![libretas en paralelo](https://user-images.githubusercontent.com/29915202/52453684-c2f53400-2b48-11e9-992d-19caf9ca9910.png)"
   ]
  },
  {
   "cell_type": "markdown",
   "id": "be112434-8f89-4297-8ae7-3ee3e472e704",
   "metadata": {},
   "source": [
    "Una vez creada copie y pegue en una celda de allí el siguiente código:"
   ]
  },
  {
   "cell_type": "code",
   "execution_count": null,
   "id": "efb4b8c5-d6b7-45ba-89aa-c154c6deb464",
   "metadata": {},
   "outputs": [],
   "source": [
    "import import_ipynb # librería que nos permite importar libretas Jupyter\n",
    "import mqtt_aws as mqtt # le damos el alias de 'mqtt' al componente\n",
    "\n",
    "direccion_servidor = 'a1fuz731sf8v8p-ats.iot.us-east-1.amazonaws.com'\n",
    "mark = mqtt.crear_cliente('mark', direccion_servidor)\n",
    "mqtt.subscribir_cliente(mark, 'topico/prueba') "
   ]
  },
  {
   "cell_type": "markdown",
   "id": "0daf40d7-0297-41a5-871b-e45ba6fca210",
   "metadata": {},
   "source": [
    "> Este código que acabamos de copiar no es más que una versión resumida de lo hecho hasta ahora, salvo que nos conectamos con un id de cliente diferente (\"mark\")"
   ]
  },
  {
   "cell_type": "markdown",
   "id": "e70f4670-0617-4305-878a-97d2050f0fdc",
   "metadata": {},
   "source": [
    "Ejecúte el código en la libreta paralela. Una vez que se realice una publicación al mismo tópico suscrito, el mensaje aparecerá bajo aquella celda."
   ]
  },
  {
   "cell_type": "markdown",
   "id": "2a1f0aad-fad0-4e67-9af7-c41f5f6f7fcd",
   "metadata": {},
   "source": [
    "## Usando Widgets"
   ]
  },
  {
   "cell_type": "markdown",
   "id": "e571ce1b-70ef-41cd-be7b-e8523620723c",
   "metadata": {},
   "source": [
    "Para tener interactividad con nuestro flujo de publicacíón y suscripción necesitaremos usar 'widgets'. Los widgets de Jupyter son elementos visuales que permiten modificar valores que se verán reflejados en pantalla instantaneamente.\n",
    "\n",
    "`mqtt_aws` incluye un par de widgets que podremos usar directamente."
   ]
  },
  {
   "cell_type": "code",
   "execution_count": 6,
   "id": "a3b28f39-bd47-4b35-b173-b0f522f9094c",
   "metadata": {},
   "outputs": [
    {
     "data": {
      "application/vnd.jupyter.widget-view+json": {
       "model_id": "5aa322be08fa4f30a914ae49696d4fd0",
       "version_major": 2,
       "version_minor": 0
      },
      "text/plain": [
       "HBox(children=(IntSlider(value=1, description='temperatura', min=1), Text(value='', description='mensaje')))"
      ]
     },
     "metadata": {},
     "output_type": "display_data"
    },
    {
     "data": {
      "application/vnd.jupyter.widget-view+json": {
       "model_id": "4d77a0a0a4d64aea8a4125bb401cba09",
       "version_major": 2,
       "version_minor": 0
      },
      "text/plain": [
       "Button(description='publicar temperatura!', style=ButtonStyle())"
      ]
     },
     "metadata": {},
     "output_type": "display_data"
    }
   ],
   "source": [
    "mqtt.widget_publicar_demo(ray)"
   ]
  }
 ],
 "metadata": {
  "kernelspec": {
   "display_name": "Python 3 (ipykernel)",
   "language": "python",
   "name": "python3"
  },
  "language_info": {
   "codemirror_mode": {
    "name": "ipython",
    "version": 3
   },
   "file_extension": ".py",
   "mimetype": "text/x-python",
   "name": "python",
   "nbconvert_exporter": "python",
   "pygments_lexer": "ipython3",
   "version": "3.9.2"
  }
 },
 "nbformat": 4,
 "nbformat_minor": 5
}
